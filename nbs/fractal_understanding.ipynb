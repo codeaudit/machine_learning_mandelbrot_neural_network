{
 "cells": [
  {
   "cell_type": "markdown",
   "metadata": {},
   "source": [
    "# Introduction\n",
    "\n",
    "The goal of this notebook is to generate various images that correspond to what various neural networks understand of the Mandelbrot set. This notebook was used to create the following [blog post](https://medium.com/@chatel.gregory/what-do-deep-neural-networks-understand-of-fractals-2ae354911601). "
   ]
  },
  {
   "cell_type": "code",
   "execution_count": 1,
   "metadata": {
    "collapsed": false
   },
   "outputs": [
    {
     "name": "stderr",
     "output_type": "stream",
     "text": [
      "Using TensorFlow backend.\n"
     ]
    }
   ],
   "source": [
    "%matplotlib inline\n",
    "import keras\n",
    "import itertools\n",
    "\n",
    "from keras.layers         import Dense\n",
    "from keras.models         import Model\n",
    "from keras.models         import Sequential\n",
    "from keras.utils.np_utils import to_categorical\n",
    "\n",
    "from collections import Counter\n",
    "\n",
    "import numpy             as np\n",
    "import matplotlib.pyplot as plt"
   ]
  },
  {
   "cell_type": "markdown",
   "metadata": {},
   "source": [
    "# Tools definition\n",
    "\n",
    "We define the maximum number of terms of the complex number sequence that we generate to detect the divergence. "
   ]
  },
  {
   "cell_type": "code",
   "execution_count": 2,
   "metadata": {
    "collapsed": true
   },
   "outputs": [],
   "source": [
    "max_iter = 50\n",
    "seq_fn   = lambda z, c: z ** 2 + c"
   ]
  },
  {
   "cell_type": "markdown",
   "metadata": {},
   "source": [
    "This function will be used to compute the terms of the sequence. If a divergence is detected, it will return 1 and 0 otherwise."
   ]
  },
  {
   "cell_type": "code",
   "execution_count": 3,
   "metadata": {
    "collapsed": false
   },
   "outputs": [],
   "source": [
    "def iterate_sequence(seq_fn, max_iter, c):\n",
    "    z = c\n",
    "    for i in range(max_iter):\n",
    "        z = seq_fn(z, c)\n",
    "        # mathematical criterion to detect the divergence\n",
    "        if (z.real * z.real + z.imag * z.imag) > 4:\n",
    "            return 1\n",
    "    return 0"
   ]
  },
  {
   "cell_type": "markdown",
   "metadata": {},
   "source": [
    "# Model results visualization\n",
    "\n",
    "This function generate a sample of the complex plane between -2 and 1 for the real part and -1 and 1 for the imaginary part. "
   ]
  },
  {
   "cell_type": "code",
   "execution_count": 4,
   "metadata": {
    "collapsed": true
   },
   "outputs": [],
   "source": [
    "def generate_X(unit):\n",
    "    width       = 3 * unit\n",
    "    height      = 2 * unit \n",
    "    real_values = np.linspace(-2, 1, width)\n",
    "    imag_values = np.linspace(-1, 1, height)\n",
    "    # we swap the two columns because the first loop should be on the imaginary parts\n",
    "    # but for latter treatment, it makes more sense to have table (real, imag).\n",
    "    result      = np.array(list(itertools.product(imag_values, real_values)))[:, (1, 0)]\n",
    "\n",
    "    return result"
   ]
  },
  {
   "cell_type": "markdown",
   "metadata": {},
   "source": [
    "This function utilizes the model to compute the color of each pixel of the final image. "
   ]
  },
  {
   "cell_type": "code",
   "execution_count": 5,
   "metadata": {
    "collapsed": false
   },
   "outputs": [],
   "source": [
    "def generate_visualization(model, unit):\n",
    "    height = 2 * unit\n",
    "    width  = 3 * unit\n",
    "    X      = generate_X(unit)\n",
    "    y      = model.predict_classes(X, batch_size = 4096, verbose = 2)\n",
    "    \n",
    "    return y.reshape((height, width))"
   ]
  },
  {
   "cell_type": "markdown",
   "metadata": {},
   "source": [
    "This class is just a small hack to show the function the various neural networks will try to approximate."
   ]
  },
  {
   "cell_type": "code",
   "execution_count": 6,
   "metadata": {
    "collapsed": true
   },
   "outputs": [],
   "source": [
    "class FakeModel():\n",
    "    def predict_classes(self, X, **kwargs):\n",
    "        return np.array([iterate_sequence(seq_fn, max_iter, complex(*sample)) for sample in X])"
   ]
  },
  {
   "cell_type": "code",
   "execution_count": 7,
   "metadata": {
    "collapsed": false
   },
   "outputs": [
    {
     "data": {
      "text/plain": [
       "<matplotlib.image.AxesImage at 0x7f3cfccf0b00>"
      ]
     },
     "execution_count": 7,
     "metadata": {},
     "output_type": "execute_result"
    },
    {
     "data": {
      "image/png": "[encoded data removed]",
      "text/plain": [
       "<matplotlib.figure.Figure at 0x7f3d344a59b0>"
      ]
     },
     "metadata": {},
     "output_type": "display_data"
    }
   ],
   "source": [
    "fake_model = FakeModel()\n",
    "res        = generate_visualization(fake_model, 512)\n",
    "plt.imshow(res, cmap = 'gray')"
   ]
  },
  {
   "cell_type": "markdown",
   "metadata": {},
   "source": [
    "# Training samples generation"
   ]
  },
  {
   "cell_type": "markdown",
   "metadata": {},
   "source": [
    "How many sample we will take along each axis to build the training set."
   ]
  },
  {
   "cell_type": "code",
   "execution_count": 8,
   "metadata": {
    "collapsed": false
   },
   "outputs": [
    {
     "name": "stdout",
     "output_type": "stream",
     "text": [
      "(1500000, 2) (1500000,)\n"
     ]
    }
   ],
   "source": [
    "training_unit = 500\n",
    "samples       = generate_X(training_unit)\n",
    "sample_img    = np.array([iterate_sequence(seq_fn, max_iter, complex(*sample)) for sample in samples])\n",
    "print(samples.shape, sample_img.shape)"
   ]
  },
  {
   "cell_type": "markdown",
   "metadata": {},
   "source": [
    "Now, for each sample, we compute its target (whether the sequence diverges or not for this complex number)."
   ]
  },
  {
   "cell_type": "code",
   "execution_count": 9,
   "metadata": {
    "collapsed": false
   },
   "outputs": [],
   "source": [
    "outside = samples[sample_img == 1]\n",
    "inside  = samples[sample_img == 0]\n",
    "X       = np.concatenate([inside, outside])\n",
    "y       = np.concatenate([np.zeros(inside.shape[0]), np.zeros(outside.shape[0]) + 1]).astype(np.int32)\n",
    "y       = to_categorical(y)"
   ]
  },
  {
   "cell_type": "markdown",
   "metadata": {},
   "source": [
    "# Renderings\n",
    "\n",
    "This function is used to create the various models that we will use. The architecture of the network corresponds to the parameters of the function with an additional fully connected layer with softmax activation at the end. This last layer is used to produce a prediction of the right shape."
   ]
  },
  {
   "cell_type": "code",
   "execution_count": 10,
   "metadata": {
    "collapsed": true
   },
   "outputs": [],
   "source": [
    "def create_model(internal_layers_number, node_per_layer, activation, optimizer):\n",
    "    model = Sequential([Dense(node_per_layer, input_dim = 2, activation = activation)])\n",
    "    \n",
    "    for _ in range(internal_layers_number - 1):\n",
    "        model.add(Dense(node_per_layer, activation = activation))\n",
    "        \n",
    "    model.add(Dense(2, activation = 'softmax'))\n",
    "    model.compile(optimizer = optimizer, loss = 'binary_crossentropy')\n",
    "    \n",
    "    return model"
   ]
  },
  {
   "cell_type": "code",
   "execution_count": 11,
   "metadata": {
    "collapsed": true
   },
   "outputs": [],
   "source": [
    "def create_final_picture(model, internal_layers_number, node_per_layer, activation, folder):\n",
    "    result = generate_visualization(model, 512)\n",
    "    plt.imshow(result, cmap = 'gray')\n",
    "    filename = folder + 'DL_mandelbrot_%d_layers_%03d_nodes_%s_activation.png' % (internal_layers_number, node_per_layer, activation)\n",
    "    plt.savefig(filename)\n",
    "    plt.close()"
   ]
  },
  {
   "cell_type": "code",
   "execution_count": 12,
   "metadata": {
    "collapsed": true
   },
   "outputs": [],
   "source": [
    "def generate_all_pictures(folder):\n",
    "    for internal_layers_number in range(6, 0, -1):\n",
    "        for node_per_layer in [512, 256, 128, 64, 32, 16, 8]:\n",
    "            for activation in ['relu', 'tanh', 'sigmoid']:\n",
    "                print('internal_layers_number', internal_layers_number)\n",
    "                print('node_per_layer', node_per_layer)\n",
    "                print('activation', activation)\n",
    "                model = create_model(internal_layers_number, node_per_layer, activation, optimizer = 'adam')\n",
    "                model.fit(X, y, batch_size = 4096, epochs = 20, verbose = 0)\n",
    "                create_final_picture(model, internal_layers_number, node_per_layer, activation, folder)"
   ]
  },
  {
   "cell_type": "code",
   "execution_count": null,
   "metadata": {
    "collapsed": false,
    "scrolled": true
   },
   "outputs": [],
   "source": [
    "generate_all_pictures('../images/01/')"
   ]
  }
 ],
 "metadata": {
  "anaconda-cloud": {},
  "kernelspec": {
   "display_name": "Python 3",
   "language": "python",
   "name": "python3"
  },
  "language_info": {
   "codemirror_mode": {
    "name": "ipython",
    "version": 3
   },
   "file_extension": ".py",
   "mimetype": "text/x-python",
   "name": "python",
   "nbconvert_exporter": "python",
   "pygments_lexer": "ipython3",
   "version": "3.6.0"
  }
 },
 "nbformat": 4,
 "nbformat_minor": 2
}
